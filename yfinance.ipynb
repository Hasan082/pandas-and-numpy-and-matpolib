{
 "cells": [
  {
   "cell_type": "code",
   "id": "initial_id",
   "metadata": {
    "collapsed": true,
    "ExecuteTime": {
     "end_time": "2025-01-04T18:39:55.534191Z",
     "start_time": "2025-01-04T18:39:54.931781Z"
    }
   },
   "source": [
    "import yfinance as yf\n",
    "import pandas as pd\n",
    "import json\n",
    "apple = yf.Ticker(\"AAPL\")\n",
    "print(apple.history(period=\"max\"))"
   ],
   "outputs": [
    {
     "name": "stdout",
     "output_type": "stream",
     "text": [
      "                                 Open        High         Low       Close  \\\n",
      "Date                                                                        \n",
      "1980-12-12 00:00:00-05:00    0.098834    0.099264    0.098834    0.098834   \n",
      "1980-12-15 00:00:00-05:00    0.094108    0.094108    0.093678    0.093678   \n",
      "1980-12-16 00:00:00-05:00    0.087232    0.087232    0.086802    0.086802   \n",
      "1980-12-17 00:00:00-05:00    0.088951    0.089381    0.088951    0.088951   \n",
      "1980-12-18 00:00:00-05:00    0.091530    0.091959    0.091530    0.091530   \n",
      "...                               ...         ...         ...         ...   \n",
      "2024-12-27 00:00:00-05:00  257.829987  258.700012  253.059998  255.589996   \n",
      "2024-12-30 00:00:00-05:00  252.229996  253.500000  250.750000  252.199997   \n",
      "2024-12-31 00:00:00-05:00  252.440002  253.279999  249.429993  250.419998   \n",
      "2025-01-02 00:00:00-05:00  248.929993  249.100006  241.820007  243.850006   \n",
      "2025-01-03 00:00:00-05:00  243.360001  244.179993  241.889999  243.360001   \n",
      "\n",
      "                              Volume  Dividends  Stock Splits  \n",
      "Date                                                           \n",
      "1980-12-12 00:00:00-05:00  469033600        0.0           0.0  \n",
      "1980-12-15 00:00:00-05:00  175884800        0.0           0.0  \n",
      "1980-12-16 00:00:00-05:00  105728000        0.0           0.0  \n",
      "1980-12-17 00:00:00-05:00   86441600        0.0           0.0  \n",
      "1980-12-18 00:00:00-05:00   73449600        0.0           0.0  \n",
      "...                              ...        ...           ...  \n",
      "2024-12-27 00:00:00-05:00   42355300        0.0           0.0  \n",
      "2024-12-30 00:00:00-05:00   35557500        0.0           0.0  \n",
      "2024-12-31 00:00:00-05:00   39480700        0.0           0.0  \n",
      "2025-01-02 00:00:00-05:00   55740700        0.0           0.0  \n",
      "2025-01-03 00:00:00-05:00   40202700        0.0           0.0  \n",
      "\n",
      "[11107 rows x 7 columns]\n"
     ]
    }
   ],
   "execution_count": 4
  },
  {
   "metadata": {
    "ExecuteTime": {
     "end_time": "2025-01-04T18:38:23.269645Z",
     "start_time": "2025-01-04T18:38:21.312185Z"
    }
   },
   "cell_type": "code",
   "source": "!wget https://cf-courses-data.s3.us.cloud-object-storage.appdomain.cloud/IBMDeveloperSkillsNetwork-PY0220EN-SkillsNetwork/data/apple.json",
   "id": "20ede67121e7a277",
   "outputs": [
    {
     "name": "stdout",
     "output_type": "stream",
     "text": [
      "--2025-01-05 00:38:21--  https://cf-courses-data.s3.us.cloud-object-storage.appdomain.cloud/IBMDeveloperSkillsNetwork-PY0220EN-SkillsNetwork/data/apple.json\r\n",
      "Resolving cf-courses-data.s3.us.cloud-object-storage.appdomain.cloud (cf-courses-data.s3.us.cloud-object-storage.appdomain.cloud)... 169.63.118.104\r\n",
      "Connecting to cf-courses-data.s3.us.cloud-object-storage.appdomain.cloud (cf-courses-data.s3.us.cloud-object-storage.appdomain.cloud)|169.63.118.104|:443... connected.\r\n",
      "HTTP request sent, awaiting response... 200 OK\r\n",
      "Length: 5699 (5.6K) [application/json]\r\n",
      "Saving to: ‘apple.json’\r\n",
      "\r\n",
      "apple.json          100%[===================>]   5.57K  --.-KB/s    in 0s      \r\n",
      "\r\n",
      "2025-01-05 00:38:23 (5.31 GB/s) - ‘apple.json’ saved [5699/5699]\r\n",
      "\r\n"
     ]
    }
   ],
   "execution_count": 2
  },
  {
   "metadata": {
    "ExecuteTime": {
     "end_time": "2025-01-04T18:39:58.759770Z",
     "start_time": "2025-01-04T18:39:58.756062Z"
    }
   },
   "cell_type": "code",
   "source": [
    "with open('apple.json', 'r') as f:\n",
    "    apple_json = json.load(f)\n",
    "\n",
    "print(apple_json)"
   ],
   "id": "27d098ab294a1612",
   "outputs": [
    {
     "name": "stdout",
     "output_type": "stream",
     "text": [
      "{'zip': '95014', 'sector': 'Technology', 'fullTimeEmployees': 100000, 'longBusinessSummary': 'Apple Inc. designs, manufactures, and markets smartphones, personal computers, tablets, wearables, and accessories worldwide. It also sells various related services. In addition, the company offers iPhone, a line of smartphones; Mac, a line of personal computers; iPad, a line of multi-purpose tablets; AirPods Max, an over-ear wireless headphone; and wearables, home, and accessories comprising AirPods, Apple TV, Apple Watch, Beats products, HomePod, and iPod touch. Further, it provides AppleCare support services; cloud services store services; and operates various platforms, including the App Store that allow customers to discover and download applications and digital content, such as books, music, video, games, and podcasts. Additionally, the company offers various services, such as Apple Arcade, a game subscription service; Apple Music, which offers users a curated listening experience with on-demand radio stations; Apple News+, a subscription news and magazine service; Apple TV+, which offers exclusive original content; Apple Card, a co-branded credit card; and Apple Pay, a cashless payment service, as well as licenses its intellectual property. The company serves consumers, and small and mid-sized businesses; and the education, enterprise, and government markets. It distributes third-party applications for its products through the App Store. The company also sells its products through its retail and online stores, and direct sales force; and third-party cellular network carriers, wholesalers, retailers, and resellers. Apple Inc. was incorporated in 1977 and is headquartered in Cupertino, California.', 'city': 'Cupertino', 'phone': '408 996 1010', 'state': 'CA', 'country': 'United States', 'companyOfficers': [], 'website': 'https://www.apple.com', 'maxAge': 1, 'address1': 'One Apple Park Way', 'industry': 'Consumer Electronics', 'ebitdaMargins': 0.33890998, 'profitMargins': 0.26579002, 'grossMargins': 0.43019, 'operatingCashflow': 112241000448, 'revenueGrowth': 0.112, 'operatingMargins': 0.309, 'ebitda': 128217997312, 'targetLowPrice': 160, 'recommendationKey': 'buy', 'grossProfits': 152836000000, 'freeCashflow': 80153247744, 'targetMedianPrice': 199.5, 'currentPrice': 177.77, 'earningsGrowth': 0.25, 'currentRatio': 1.038, 'returnOnAssets': 0.19875, 'numberOfAnalystOpinions': 44, 'targetMeanPrice': 193.53, 'debtToEquity': 170.714, 'returnOnEquity': 1.45567, 'targetHighPrice': 215, 'totalCash': 63913000960, 'totalDebt': 122797998080, 'totalRevenue': 378323009536, 'totalCashPerShare': 3.916, 'financialCurrency': 'USD', 'revenuePerShare': 22.838, 'quickRatio': 0.875, 'recommendationMean': 1.8, 'exchange': 'NMS', 'shortName': 'Apple Inc.', 'longName': 'Apple Inc.', 'exchangeTimezoneName': 'America/New_York', 'exchangeTimezoneShortName': 'EDT', 'isEsgPopulated': False, 'gmtOffSetMilliseconds': '-14400000', 'quoteType': 'EQUITY', 'symbol': 'AAPL', 'messageBoardId': 'finmb_24937', 'market': 'us_market', 'annualHoldingsTurnover': None, 'enterpriseToRevenue': 7.824, 'beta3Year': None, 'enterpriseToEbitda': 23.086, '52WeekChange': 0.4549594, 'morningStarRiskRating': None, 'forwardEps': 6.56, 'revenueQuarterlyGrowth': None, 'sharesOutstanding': 16319399936, 'fundInceptionDate': None, 'annualReportExpenseRatio': None, 'totalAssets': None, 'bookValue': 4.402, 'sharesShort': 111286790, 'sharesPercentSharesOut': 0.0068, 'fundFamily': None, 'lastFiscalYearEnd': 1632528000, 'heldPercentInstitutions': 0.59397, 'netIncomeToCommon': 100554997760, 'trailingEps': 6.015, 'lastDividendValue': 0.22, 'SandP52WeekChange': 0.15217662, 'priceToBook': 40.38392, 'heldPercentInsiders': 0.0007, 'nextFiscalYearEnd': 1695600000, 'yield': None, 'mostRecentQuarter': 1640390400, 'shortRatio': 1.21, 'sharesShortPreviousMonthDate': 1644883200, 'floatShares': 16302795170, 'beta': 1.185531, 'enterpriseValue': 2959991898112, 'priceHint': 2, 'threeYearAverageReturn': None, 'lastSplitDate': 1598832000, 'lastSplitFactor': '4:1', 'legalType': None, 'lastDividendDate': 1643932800, 'morningStarOverallRating': None, 'earningsQuarterlyGrowth': 0.204, 'priceToSalesTrailing12Months': 7.668314, 'dateShortInterest': 1647302400, 'pegRatio': 1.94, 'ytdReturn': None, 'forwardPE': 27.099087, 'lastCapGain': None, 'shortPercentOfFloat': 0.0068, 'sharesShortPriorMonth': 108944701, 'impliedSharesOutstanding': 0, 'category': None, 'fiveYearAverageReturn': None, 'previousClose': 178.96, 'regularMarketOpen': 178.55, 'twoHundredDayAverage': 156.03505, 'trailingAnnualDividendYield': 0.004833482, 'payoutRatio': 0.1434, 'volume24Hr': None, 'regularMarketDayHigh': 179.61, 'navPrice': None, 'averageDailyVolume10Day': 93823630, 'regularMarketPreviousClose': 178.96, 'fiftyDayAverage': 166.498, 'trailingAnnualDividendRate': 0.865, 'open': 178.55, 'toCurrency': None, 'averageVolume10days': 93823630, 'expireDate': None, 'algorithm': None, 'dividendRate': 0.88, 'exDividendDate': 1643932800, 'circulatingSupply': None, 'startDate': None, 'regularMarketDayLow': 176.7, 'currency': 'USD', 'trailingPE': 29.55445, 'regularMarketVolume': 92633154, 'lastMarket': None, 'maxSupply': None, 'openInterest': None, 'marketCap': 2901099675648, 'volumeAllCurrencies': None, 'strikePrice': None, 'averageVolume': 95342043, 'dayLow': 176.7, 'ask': 178.53, 'askSize': 800, 'volume': 92633154, 'fiftyTwoWeekHigh': 182.94, 'fromCurrency': None, 'fiveYearAvgDividendYield': 1.13, 'fiftyTwoWeekLow': 122.25, 'bid': 178.4, 'tradeable': False, 'dividendYield': 0.005, 'bidSize': 3200, 'dayHigh': 179.61, 'regularMarketPrice': 177.77, 'preMarketPrice': 178.38, 'logo_url': 'https://logo.clearbit.com/apple.com'}\n"
     ]
    }
   ],
   "execution_count": 5
  },
  {
   "metadata": {
    "ExecuteTime": {
     "end_time": "2025-01-04T18:42:46.490507Z",
     "start_time": "2025-01-04T18:42:46.045735Z"
    }
   },
   "cell_type": "code",
   "source": [
    "print(apple_json[\"country\"])\n",
    "apple_share_price_data = apple.history(period=\"max\")\n",
    "apple_share_price_data.head()"
   ],
   "id": "574a19abf412b0c6",
   "outputs": [
    {
     "name": "stdout",
     "output_type": "stream",
     "text": [
      "United States\n"
     ]
    },
    {
     "data": {
      "text/plain": [
       "                               Open      High       Low     Close     Volume  \\\n",
       "Date                                                                           \n",
       "1980-12-12 00:00:00-05:00  0.098834  0.099264  0.098834  0.098834  469033600   \n",
       "1980-12-15 00:00:00-05:00  0.094108  0.094108  0.093678  0.093678  175884800   \n",
       "1980-12-16 00:00:00-05:00  0.087232  0.087232  0.086802  0.086802  105728000   \n",
       "1980-12-17 00:00:00-05:00  0.088951  0.089381  0.088951  0.088951   86441600   \n",
       "1980-12-18 00:00:00-05:00  0.091530  0.091959  0.091530  0.091530   73449600   \n",
       "\n",
       "                           Dividends  Stock Splits  \n",
       "Date                                                \n",
       "1980-12-12 00:00:00-05:00        0.0           0.0  \n",
       "1980-12-15 00:00:00-05:00        0.0           0.0  \n",
       "1980-12-16 00:00:00-05:00        0.0           0.0  \n",
       "1980-12-17 00:00:00-05:00        0.0           0.0  \n",
       "1980-12-18 00:00:00-05:00        0.0           0.0  "
      ],
      "text/html": [
       "<div>\n",
       "<style scoped>\n",
       "    .dataframe tbody tr th:only-of-type {\n",
       "        vertical-align: middle;\n",
       "    }\n",
       "\n",
       "    .dataframe tbody tr th {\n",
       "        vertical-align: top;\n",
       "    }\n",
       "\n",
       "    .dataframe thead th {\n",
       "        text-align: right;\n",
       "    }\n",
       "</style>\n",
       "<table border=\"1\" class=\"dataframe\">\n",
       "  <thead>\n",
       "    <tr style=\"text-align: right;\">\n",
       "      <th></th>\n",
       "      <th>Open</th>\n",
       "      <th>High</th>\n",
       "      <th>Low</th>\n",
       "      <th>Close</th>\n",
       "      <th>Volume</th>\n",
       "      <th>Dividends</th>\n",
       "      <th>Stock Splits</th>\n",
       "    </tr>\n",
       "    <tr>\n",
       "      <th>Date</th>\n",
       "      <th></th>\n",
       "      <th></th>\n",
       "      <th></th>\n",
       "      <th></th>\n",
       "      <th></th>\n",
       "      <th></th>\n",
       "      <th></th>\n",
       "    </tr>\n",
       "  </thead>\n",
       "  <tbody>\n",
       "    <tr>\n",
       "      <th>1980-12-12 00:00:00-05:00</th>\n",
       "      <td>0.098834</td>\n",
       "      <td>0.099264</td>\n",
       "      <td>0.098834</td>\n",
       "      <td>0.098834</td>\n",
       "      <td>469033600</td>\n",
       "      <td>0.0</td>\n",
       "      <td>0.0</td>\n",
       "    </tr>\n",
       "    <tr>\n",
       "      <th>1980-12-15 00:00:00-05:00</th>\n",
       "      <td>0.094108</td>\n",
       "      <td>0.094108</td>\n",
       "      <td>0.093678</td>\n",
       "      <td>0.093678</td>\n",
       "      <td>175884800</td>\n",
       "      <td>0.0</td>\n",
       "      <td>0.0</td>\n",
       "    </tr>\n",
       "    <tr>\n",
       "      <th>1980-12-16 00:00:00-05:00</th>\n",
       "      <td>0.087232</td>\n",
       "      <td>0.087232</td>\n",
       "      <td>0.086802</td>\n",
       "      <td>0.086802</td>\n",
       "      <td>105728000</td>\n",
       "      <td>0.0</td>\n",
       "      <td>0.0</td>\n",
       "    </tr>\n",
       "    <tr>\n",
       "      <th>1980-12-17 00:00:00-05:00</th>\n",
       "      <td>0.088951</td>\n",
       "      <td>0.089381</td>\n",
       "      <td>0.088951</td>\n",
       "      <td>0.088951</td>\n",
       "      <td>86441600</td>\n",
       "      <td>0.0</td>\n",
       "      <td>0.0</td>\n",
       "    </tr>\n",
       "    <tr>\n",
       "      <th>1980-12-18 00:00:00-05:00</th>\n",
       "      <td>0.091530</td>\n",
       "      <td>0.091959</td>\n",
       "      <td>0.091530</td>\n",
       "      <td>0.091530</td>\n",
       "      <td>73449600</td>\n",
       "      <td>0.0</td>\n",
       "      <td>0.0</td>\n",
       "    </tr>\n",
       "  </tbody>\n",
       "</table>\n",
       "</div>"
      ]
     },
     "execution_count": 9,
     "metadata": {},
     "output_type": "execute_result"
    }
   ],
   "execution_count": 9
  },
  {
   "metadata": {
    "ExecuteTime": {
     "end_time": "2025-01-04T18:43:50.840992Z",
     "start_time": "2025-01-04T18:43:50.832202Z"
    }
   },
   "cell_type": "code",
   "source": "apple_share_price_data.reset_index(inplace=True)",
   "id": "d78db36cc02f808",
   "outputs": [],
   "execution_count": 10
  },
  {
   "metadata": {
    "ExecuteTime": {
     "end_time": "2025-01-04T19:25:08.954313Z",
     "start_time": "2025-01-04T19:25:08.619530Z"
    }
   },
   "cell_type": "code",
   "source": [
    "\n",
    "apple_share_price_data.plot(x = 'Date', y='Open')\n"
   ],
   "id": "edcc8be9a318f376",
   "outputs": [
    {
     "name": "stdout",
     "output_type": "stream",
     "text": [
      "243.36000061035156\n"
     ]
    },
    {
     "data": {
      "text/plain": [
       "<Figure size 640x480 with 1 Axes>"
      ],
      "image/png": "[encoded data removed]"
     },
     "metadata": {},
     "output_type": "display_data"
    }
   ],
   "execution_count": 13
  }
 ],
 "metadata": {
  "kernelspec": {
   "display_name": "Python 3",
   "language": "python",
   "name": "python3"
  },
  "language_info": {
   "codemirror_mode": {
    "name": "ipython",
    "version": 2
   },
   "file_extension": ".py",
   "mimetype": "text/x-python",
   "name": "python",
   "nbconvert_exporter": "python",
   "pygments_lexer": "ipython2",
   "version": "2.7.6"
  }
 },
 "nbformat": 4,
 "nbformat_minor": 5
}
