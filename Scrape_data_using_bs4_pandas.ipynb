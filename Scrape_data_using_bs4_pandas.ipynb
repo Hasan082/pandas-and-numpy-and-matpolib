{
 "cells": [
  {
   "metadata": {
    "ExecuteTime": {
     "end_time": "2025-01-04T18:32:35.004691Z",
     "start_time": "2025-01-04T18:32:34.230558Z"
    }
   },
   "cell_type": "code",
   "source": [
    "import pandas as pd\n",
    "import requests\n",
    "from bs4 import BeautifulSoup\n",
    "\n",
    "url = \"https://en.wikipedia.org/wiki/World_population\"\n",
    "response = requests.get(url).text\n",
    "soup = BeautifulSoup(response, 'html.parser')\n",
    "all_tables = soup.find_all('table')\n",
    "\n",
    "for i, table in enumerate(all_tables):\n",
    "    if (\"10 most densely populated countries\") in str(table):\n",
    "        table_index = i\n",
    "\n",
    "print(table_index)\n",
    "\n",
    "population_table = pd.DataFrame(columns=[\"Rank\", \"Country\", \"Population\", \"Area\", \"Density\"])\n",
    "rows = []\n",
    "for row in all_tables[table_index].tbody.find_all('tr'):\n",
    "    col = row.find_all('td')\n",
    "    if col:\n",
    "        rank = col[0].text.strip()\n",
    "        country = col[1].text.strip()\n",
    "        pop = col[2].text.strip()\n",
    "        area = col[3].text.strip()\n",
    "        pop_density = col[4].text.strip()\n",
    "        rows.append([rank, country, pop, area, pop_density])\n",
    "print(population_table)\n",
    "\n",
    "population_table = pd.DataFrame(rows, columns=[\"Rank\", \"Country\", \"Population\", \"Area\", \"Density\"])\n",
    "print(population_table.to_string(index=False))\n",
    "population_table['Population'] = population_table['Population'].replace({',': ''}, regex=True).astype(int)\n",
    "mean_value = population_table['Population'].mean()\n",
    "print(mean_value)"
   ],
   "id": "9b1c8d5645317b5a",
   "outputs": [
    {
     "name": "stdout",
     "output_type": "stream",
     "text": [
      "8\n",
      "Empty DataFrame\n",
      "Columns: [Rank, Country, Population, Area, Density]\n",
      "Index: []\n",
      "Rank                Country    Population      Area Density\n",
      "   1              Singapore     5,921,231       719   8,235\n",
      "   2             Bangladesh   165,650,475   148,460   1,116\n",
      "   3 Palestine[note 3][100]     5,223,000     6,025     867\n",
      "   4         Taiwan[note 4]    23,580,712    35,980     655\n",
      "   5            South Korea    51,844,834    99,720     520\n",
      "   6                Lebanon     5,296,814    10,400     509\n",
      "   7                 Rwanda    13,173,730    26,338     500\n",
      "   8                Burundi    12,696,478    27,830     456\n",
      "   9                 Israel     9,402,617    21,937     429\n",
      "  10                  India 1,389,637,446 3,287,263     423\n",
      "168242733.7\n"
     ]
    }
   ],
   "execution_count": 21
  }
 ],
 "metadata": {
  "kernelspec": {
   "display_name": "Python 3",
   "language": "python",
   "name": "python3"
  },
  "language_info": {
   "codemirror_mode": {
    "name": "ipython",
    "version": 2
   },
   "file_extension": ".py",
   "mimetype": "text/x-python",
   "name": "python",
   "nbconvert_exporter": "python",
   "pygments_lexer": "ipython2",
   "version": "2.7.6"
  }
 },
 "nbformat": 4,
 "nbformat_minor": 5
}
