{
 "cells": [
  {
   "cell_type": "code",
   "id": "initial_id",
   "metadata": {
    "collapsed": true,
    "jupyter": {
     "is_executing": true
    },
    "ExecuteTime": {
     "start_time": "2025-01-04T15:52:05.870349Z"
    }
   },
   "source": [
    "import os\n",
    "\n",
    "import requests\n",
    "from PIL import Image\n",
    "url2 = ('https://cf-courses-data.s3.us.cloud-object-storage.appdomain.cloud/IBMDeveloperSkillsNetwork-PY0101EN'\n",
    "        '-SkillsNetwork/IDSNlogo.png')\n",
    "\n",
    "res = requests.get(url2)\n",
    "\n",
    "path = os.path.join(os.getcwd(), 'image.png')\n",
    "\n",
    "with open(path, 'wb') as f:\n",
    "    f.write(res.content)\n",
    "\n",
    "Image.open(path)"
   ],
   "outputs": [],
   "execution_count": null
  }
 ],
 "metadata": {
  "kernelspec": {
   "display_name": "Python 3",
   "language": "python",
   "name": "python3"
  },
  "language_info": {
   "codemirror_mode": {
    "name": "ipython",
    "version": 2
   },
   "file_extension": ".py",
   "mimetype": "text/x-python",
   "name": "python",
   "nbconvert_exporter": "python",
   "pygments_lexer": "ipython2",
   "version": "2.7.6"
  }
 },
 "nbformat": 4,
 "nbformat_minor": 5
}
