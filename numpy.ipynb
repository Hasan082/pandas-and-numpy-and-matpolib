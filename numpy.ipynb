{
 "cells": [
  {
   "cell_type": "code",
   "id": "initial_id",
   "metadata": {
    "collapsed": true,
    "ExecuteTime": {
     "end_time": "2025-01-03T13:48:09.915878Z",
     "start_time": "2025-01-03T13:48:09.908879Z"
    }
   },
   "source": "import numpy as np",
   "outputs": [],
   "execution_count": 2
  },
  {
   "metadata": {
    "ExecuteTime": {
     "end_time": "2025-01-03T14:43:10.515558Z",
     "start_time": "2025-01-03T14:43:10.487979Z"
    }
   },
   "cell_type": "code",
   "source": [
    "X=np.array([[1,0],[0,1]]) \n",
    "\n",
    "Y=np.array([[0,1],[1,0]]) \n",
    "\n",
    "Z=X+Y \n",
    "print(Z)"
   ],
   "id": "666bae989b72a028",
   "outputs": [
    {
     "name": "stdout",
     "output_type": "stream",
     "text": [
      "[[1 1]\n",
      " [1 1]]\n"
     ]
    }
   ],
   "execution_count": 3
  },
  {
   "metadata": {
    "ExecuteTime": {
     "end_time": "2025-01-03T14:43:37.642596Z",
     "start_time": "2025-01-03T14:43:37.634746Z"
    }
   },
   "cell_type": "code",
   "source": [
    "X=np.array([[1,0,1],[2,2,2]]) \n",
    "\n",
    "out=X[0:2,2]\n",
    "print(out)"
   ],
   "id": "91edf3e36c7c3286",
   "outputs": [
    {
     "name": "stdout",
     "output_type": "stream",
     "text": [
      "[1 2]\n"
     ]
    }
   ],
   "execution_count": 4
  },
  {
   "metadata": {
    "ExecuteTime": {
     "end_time": "2025-01-03T14:44:12.317759Z",
     "start_time": "2025-01-03T14:44:12.313896Z"
    }
   },
   "cell_type": "code",
   "source": [
    "x=np.array([[1,0],[0,1]]) \n",
    "\n",
    "y=np.array([[2,1],[1,2]]) \n",
    "\n",
    "Z=np.dot(x,y) \n",
    "print(Z)"
   ],
   "id": "b2e454d87556d915",
   "outputs": [
    {
     "name": "stdout",
     "output_type": "stream",
     "text": [
      "[[2 1]\n",
      " [1 2]]\n"
     ]
    }
   ],
   "execution_count": 6
  },
  {
   "metadata": {},
   "cell_type": "code",
   "outputs": [],
   "execution_count": null,
   "source": "",
   "id": "b41626cda38099f1"
  }
 ],
 "metadata": {
  "kernelspec": {
   "display_name": "Python 3",
   "language": "python",
   "name": "python3"
  },
  "language_info": {
   "codemirror_mode": {
    "name": "ipython",
    "version": 2
   },
   "file_extension": ".py",
   "mimetype": "text/x-python",
   "name": "python",
   "nbconvert_exporter": "python",
   "pygments_lexer": "ipython2",
   "version": "2.7.6"
  }
 },
 "nbformat": 4,
 "nbformat_minor": 5
}
