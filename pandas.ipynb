{
 "cells": [
  {
   "metadata": {
    "ExecuteTime": {
     "end_time": "2025-01-03T15:03:33.119614Z",
     "start_time": "2025-01-03T15:03:32.699963Z"
    }
   },
   "cell_type": "code",
   "source": [
    "import pandas as pd\n",
    "import matplotlib.pyplot as plt\n",
    "data = {'Name': ['Alice', 'Bob', 'Charlie', 'David'],\n",
    "        'Age': [25, 30, 35, 28],\n",
    "        'City': ['New York', 'San Francisco', 'Los Angeles', 'Chicago']}\n",
    "\n",
    "df = pd.DataFrame(data)\n",
    "print(df)"
   ],
   "id": "9f243e7a1cc2f6e4",
   "outputs": [
    {
     "name": "stdout",
     "output_type": "stream",
     "text": [
      "      Name  Age           City\n",
      "0    Alice   25       New York\n",
      "1      Bob   30  San Francisco\n",
      "2  Charlie   35    Los Angeles\n",
      "3    David   28        Chicago\n"
     ]
    }
   ],
   "execution_count": 19
  },
  {
   "metadata": {
    "ExecuteTime": {
     "end_time": "2025-01-03T07:09:36.664971Z",
     "start_time": "2025-01-03T07:09:36.649559Z"
    }
   },
   "cell_type": "code",
   "source": "print(df.dtypes)",
   "id": "4e9fbc3aafaabb25",
   "outputs": [
    {
     "name": "stdout",
     "output_type": "stream",
     "text": [
      "Name    object\n",
      "Age      int64\n",
      "City    object\n",
      "dtype: object\n"
     ]
    }
   ],
   "execution_count": 17
  },
  {
   "metadata": {
    "ExecuteTime": {
     "end_time": "2025-01-03T06:57:02.818281Z",
     "start_time": "2025-01-03T06:57:02.816731Z"
    }
   },
   "cell_type": "code",
   "source": "",
   "id": "d93e45b84e24f41e",
   "outputs": [],
   "execution_count": 3
  },
  {
   "metadata": {},
   "cell_type": "code",
   "outputs": [],
   "execution_count": null,
   "source": "",
   "id": "baeb6881c35e41d7"
  },
  {
   "metadata": {},
   "cell_type": "markdown",
   "source": "## Accessing single column",
   "id": "609394ccf7f175d6"
  },
  {
   "metadata": {
    "ExecuteTime": {
     "end_time": "2025-01-03T06:58:01.105029Z",
     "start_time": "2025-01-03T06:58:01.097719Z"
    }
   },
   "cell_type": "code",
   "source": "print(df['Name'])",
   "id": "2196a9bfd91af457",
   "outputs": [
    {
     "name": "stdout",
     "output_type": "stream",
     "text": [
      "0      Alice\n",
      "1        Bob\n",
      "2    Charlie\n",
      "3      David\n",
      "Name: Name, dtype: object\n"
     ]
    }
   ],
   "execution_count": 4
  },
  {
   "metadata": {},
   "cell_type": "markdown",
   "source": "## Accessing Rows:",
   "id": "b9de353299ab568e"
  },
  {
   "metadata": {
    "ExecuteTime": {
     "end_time": "2025-01-03T07:00:20.692967Z",
     "start_time": "2025-01-03T07:00:20.677966Z"
    }
   },
   "cell_type": "code",
   "source": [
    "s = df.iloc[0]\n",
    "print(s)\n",
    "print(\"===============\")"
   ],
   "id": "71f57a5d06c908a8",
   "outputs": [
    {
     "name": "stdout",
     "output_type": "stream",
     "text": [
      "Name       Alice\n",
      "Age           25\n",
      "City    New York\n",
      "Name: 0, dtype: object\n",
      "===============\n",
      "      Name  Age           City\n",
      "1      Bob   30  San Francisco\n",
      "2  Charlie   35    Los Angeles\n"
     ]
    }
   ],
   "execution_count": 7
  },
  {
   "metadata": {},
   "cell_type": "markdown",
   "source": "## Slicing:",
   "id": "c2a82558b79dc252"
  },
  {
   "metadata": {
    "ExecuteTime": {
     "end_time": "2025-01-03T07:01:05.877540Z",
     "start_time": "2025-01-03T07:01:05.868063Z"
    }
   },
   "cell_type": "code",
   "source": [
    "p = df[1:3]\n",
    "print(p)"
   ],
   "id": "399d1542d4a358a2",
   "outputs": [
    {
     "name": "stdout",
     "output_type": "stream",
     "text": [
      "      Name  Age           City\n",
      "1      Bob   30  San Francisco\n",
      "2  Charlie   35    Los Angeles\n"
     ]
    }
   ],
   "execution_count": 8
  },
  {
   "metadata": {},
   "cell_type": "markdown",
   "source": "## Finding Unique Elements:",
   "id": "a701b7cd17daab24"
  },
  {
   "metadata": {
    "ExecuteTime": {
     "end_time": "2025-01-03T07:02:11.660978Z",
     "start_time": "2025-01-03T07:02:11.653786Z"
    }
   },
   "cell_type": "code",
   "source": [
    "uniq = df['Age'].unique()\n",
    "print(uniq)"
   ],
   "id": "daa57697493f9dc9",
   "outputs": [
    {
     "name": "stdout",
     "output_type": "stream",
     "text": [
      "[25 30 35 28]\n"
     ]
    }
   ],
   "execution_count": 9
  },
  {
   "metadata": {},
   "cell_type": "markdown",
   "source": "## Conditional Filtering:",
   "id": "5d2fabdeaa22cbda"
  },
  {
   "metadata": {
    "ExecuteTime": {
     "end_time": "2025-01-03T07:08:28.483223Z",
     "start_time": "2025-01-03T07:08:28.475613Z"
    }
   },
   "cell_type": "code",
   "source": [
    "#con = df[df['Age'] > 25]\n",
    "#print(con)"
   ],
   "id": "d4af40b2d96b026e",
   "outputs": [],
   "execution_count": 15
  },
  {
   "metadata": {},
   "cell_type": "markdown",
   "source": "## Saving DataFrames:",
   "id": "5aaf20458aeff9cb"
  },
  {
   "metadata": {
    "ExecuteTime": {
     "end_time": "2025-01-03T07:07:18.482794Z",
     "start_time": "2025-01-03T07:07:18.472179Z"
    }
   },
   "cell_type": "code",
   "source": "df.to_csv('data/data.csv', index=False)",
   "id": "f19a676ae99fede8",
   "outputs": [],
   "execution_count": 14
  },
  {
   "metadata": {
    "ExecuteTime": {
     "end_time": "2025-01-03T15:05:29.753734Z",
     "start_time": "2025-01-03T15:05:29.741611Z"
    }
   },
   "cell_type": "code",
   "source": [
    "dict_={'a':[11,21,31],'b':[12,22,32]}\n",
    "df2 = pd.DataFrame(dict_)\n",
    "print(df2)\n",
    "type(df2)"
   ],
   "id": "704225b1f69f1bf1",
   "outputs": [
    {
     "name": "stdout",
     "output_type": "stream",
     "text": [
      "    a   b\n",
      "0  11  12\n",
      "1  21  22\n",
      "2  31  32\n"
     ]
    },
    {
     "data": {
      "text/plain": [
       "pandas.core.frame.DataFrame"
      ]
     },
     "execution_count": 23,
     "metadata": {},
     "output_type": "execute_result"
    }
   ],
   "execution_count": 23
  },
  {
   "metadata": {
    "ExecuteTime": {
     "end_time": "2025-01-03T16:18:38.451461Z",
     "start_time": "2025-01-03T16:18:38.438446Z"
    }
   },
   "cell_type": "code",
   "source": [
    "x = df2.head()\n",
    "print(x)"
   ],
   "id": "3130dac9cc5ece8a",
   "outputs": [
    {
     "name": "stdout",
     "output_type": "stream",
     "text": [
      "    a   b\n",
      "0  11  12\n",
      "1  21  22\n",
      "2  31  32\n"
     ]
    }
   ],
   "execution_count": 27
  },
  {
   "metadata": {
    "ExecuteTime": {
     "end_time": "2025-01-03T16:18:06.098192Z",
     "start_time": "2025-01-03T16:18:06.062029Z"
    }
   },
   "cell_type": "code",
   "source": [
    "f = df2.mean()\n",
    "print(f)"
   ],
   "id": "caff59115c8e444f",
   "outputs": [
    {
     "name": "stdout",
     "output_type": "stream",
     "text": [
      "a    21.0\n",
      "b    22.0\n",
      "dtype: float64\n"
     ]
    }
   ],
   "execution_count": 26
  }
 ],
 "metadata": {
  "kernelspec": {
   "display_name": "Python 3",
   "language": "python",
   "name": "python3"
  },
  "language_info": {
   "codemirror_mode": {
    "name": "ipython",
    "version": 2
   },
   "file_extension": ".py",
   "mimetype": "text/x-python",
   "name": "python",
   "nbconvert_exporter": "python",
   "pygments_lexer": "ipython2",
   "version": "2.7.6"
  }
 },
 "nbformat": 4,
 "nbformat_minor": 5
}
