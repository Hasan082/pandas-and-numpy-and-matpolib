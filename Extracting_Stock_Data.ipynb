{
 "cells": [
  {
   "cell_type": "code",
   "id": "initial_id",
   "metadata": {
    "collapsed": true,
    "ExecuteTime": {
     "end_time": "2025-01-04T19:09:23.698211Z",
     "start_time": "2025-01-04T19:09:23.251051Z"
    }
   },
   "source": [
    "import pandas as pd\n",
    "import requests\n",
    "from bs4 import BeautifulSoup\n",
    "import html5lib \n",
    "import lxml\n",
    "import plotly"
   ],
   "outputs": [],
   "execution_count": 1
  },
  {
   "metadata": {
    "ExecuteTime": {
     "end_time": "2025-01-04T19:12:45.103194Z",
     "start_time": "2025-01-04T19:12:41.572094Z"
    }
   },
   "cell_type": "code",
   "source": [
    "url = \"https://cf-courses-data.s3.us.cloud-object-storage.appdomain.cloud/IBMDeveloperSkillsNetwork-PY0220EN-SkillsNetwork/labs/project/netflix_data_webpage.html\"\n",
    "response = requests.get(url).text\n",
    "soup = BeautifulSoup(response, 'lxml')"
   ],
   "id": "5d2eb513803cca32",
   "outputs": [],
   "execution_count": 3
  },
  {
   "metadata": {
    "ExecuteTime": {
     "end_time": "2025-01-04T19:24:36.234016Z",
     "start_time": "2025-01-04T19:24:36.208103Z"
    }
   },
   "cell_type": "code",
   "source": [
    "# Create an empty DataFrame\n",
    "netflix_data = pd.DataFrame(columns=[\"Date\", \"Open\", \"High\", \"Low\", \"Close\", \"Volume\"])\n",
    "\n",
    "# Assuming 'soup' is your BeautifulSoup object\n",
    "for row in soup.find_all('tr'):\n",
    "    col = row.find_all('td')\n",
    "    \n",
    "    # Ensure there are enough columns before accessing them\n",
    "    if len(col) >= 6:\n",
    "        date = col[0].string.strip() if col[0].string else None\n",
    "        op = col[1].string.strip() if col[1].string else None\n",
    "        high = col[2].string.strip() if col[2].string else None\n",
    "        low = col[3].string.strip() if col[3].string else None\n",
    "        close = col[4].string.strip() if col[4].string else None\n",
    "        volume = col[5].string.strip() if col[5].string else None\n",
    "\n",
    "        # Append the row to the DataFrame\n",
    "        new_data = pd.DataFrame({\"Date\": [date], \"Open\": [op], \"High\": [high], \"Low\": [low], \"Close\": [close], \"Volume\": [volume]})\n",
    "        netflix_data = pd.concat([netflix_data, new_data], ignore_index=True)\n",
    "\n",
    "# Display the DataFrame\n",
    "print(netflix_data.head().to_string(index=False))\n",
    "print(netflix_data['Open'].iloc[-1])"
   ],
   "id": "c1926c6fb9dda3bc",
   "outputs": [
    {
     "name": "stdout",
     "output_type": "stream",
     "text": [
      "        Date   Open   High    Low  Close Volume\n",
      "Jun 01, 2021 504.01 536.13 482.14 528.21 528.21\n",
      "May 01, 2021 512.65 518.95 478.54 502.81 502.81\n",
      "Apr 01, 2021 529.93 563.56 499.00 513.47 513.47\n",
      "Mar 01, 2021 545.57 556.99 492.85 521.66 521.66\n",
      "Feb 01, 2021 536.79 566.65 518.28 538.85 538.85\n",
      "109.35\n"
     ]
    }
   ],
   "execution_count": 11
  },
  {
   "metadata": {},
   "cell_type": "code",
   "outputs": [],
   "execution_count": null,
   "source": "",
   "id": "dc5cfceba09052d3"
  }
 ],
 "metadata": {
  "kernelspec": {
   "display_name": "Python 3",
   "language": "python",
   "name": "python3"
  },
  "language_info": {
   "codemirror_mode": {
    "name": "ipython",
    "version": 2
   },
   "file_extension": ".py",
   "mimetype": "text/x-python",
   "name": "python",
   "nbconvert_exporter": "python",
   "pygments_lexer": "ipython2",
   "version": "2.7.6"
  }
 },
 "nbformat": 4,
 "nbformat_minor": 5
}
